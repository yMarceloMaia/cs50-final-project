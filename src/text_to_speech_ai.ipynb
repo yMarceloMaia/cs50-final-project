{
 "cells": [
  {
   "cell_type": "code",
   "execution_count": null,
   "metadata": {},
   "outputs": [],
   "source": [
    "import torch\n",
    "from TTS.tts.configs.xtts_config import XttsConfig\n",
    "from TTS.tts.models.xtts import Xtts\n",
    "import wave\n",
    "\n",
    "device = \"cuda\" if torch.cuda.is_available() else \"cpu\"\n",
    "\n",
    "config = XttsConfig()\n",
    "config.load_json(\"C:/Users/yuzo/Downloads/cs50/XTTS-v2/config.json\")\n",
    "model = Xtts.init_from_config(config)\n",
    "model.load_checkpoint(config, checkpoint_dir=\"C:/Users/yuzo/Downloads/cs50/XTTS-v2\", eval=True)\n",
    "model.cuda(device)\n",
    "\n",
    "outputs = model.synthesize(\n",
    "    \"It took me quite a long time to develop a voice and now that I have it I am not going to be silent.\",\n",
    "    config,\n",
    "    speaker_wav=\"C:/Users/yuzo/Downloads/cs50/XTTS-v2/samples/en_sample.wav\",\n",
    "    gpt_cond_len=3,\n",
    "    language=\"en\",\n",
    ")\n",
    "\n",
    "wav_form = outputs[\"wav\"]\n",
    "\n",
    "filename = \"tts.wav\"\n",
    "sample_rate = 22050\n",
    "sample_width = 2\n",
    "num_channels = 1\n",
    "\n",
    "wf = wave.open(filename, \"wb\")\n",
    "wf.setnchannels(num_channels)\n",
    "wf.setframerate(sample_rate)\n",
    "wf.setsampwidth(sample_width)\n",
    "\n",
    "max_amplitude = max(abs(wav_form))\n",
    "wav_form_normalized = wav_form / max_amplitude\n",
    "wav_form_int = (wav_form_normalized * 32767).astype('int16')\n",
    "wf.writeframes(wav_form_int.tobytes())\n",
    "\n",
    "wf.close()"
   ]
  }
 ],
 "metadata": {
  "kernelspec": {
   "display_name": ".venv",
   "language": "python",
   "name": "python3"
  },
  "language_info": {
   "codemirror_mode": {
    "name": "ipython",
    "version": 3
   },
   "file_extension": ".py",
   "mimetype": "text/x-python",
   "name": "python",
   "nbconvert_exporter": "python",
   "pygments_lexer": "ipython3",
   "version": "3.11.6"
  }
 },
 "nbformat": 4,
 "nbformat_minor": 2
}
