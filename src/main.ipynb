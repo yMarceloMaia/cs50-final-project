{
 "cells": [
  {
   "cell_type": "code",
   "execution_count": null,
   "metadata": {},
   "outputs": [],
   "source": [
    "from recorder import recorder\n",
    "from transcribe import transcribe\n",
    "from translate import translater\n",
    "from text_to_speech import text_to_speech\n",
    "\n",
    "recorder()\n",
    "text = transcribe()\n",
    "textTranslated = translater(text)\n",
    "text_to_speech(textTranslated.text)"
   ]
  }
 ],
 "metadata": {
  "language_info": {
   "name": "python"
  }
 },
 "nbformat": 4,
 "nbformat_minor": 2
}
